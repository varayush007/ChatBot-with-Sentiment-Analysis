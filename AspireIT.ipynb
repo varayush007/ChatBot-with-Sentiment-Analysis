{
 "cells": [
  {
   "cell_type": "code",
   "execution_count": 54,
   "id": "e886bfd7",
   "metadata": {
    "collapsed": true
   },
   "outputs": [
    {
     "name": "stdout",
     "output_type": "stream",
     "text": [
      "Requirement already satisfied: langchain==0.0.316 in c:\\users\\varsh\\anaconda3\\lib\\site-packages (0.0.316)\n",
      "Requirement already satisfied: openai==0.28.1 in c:\\users\\varsh\\anaconda3\\lib\\site-packages (0.28.1)\n",
      "Requirement already satisfied: PyYAML>=5.3 in c:\\users\\varsh\\anaconda3\\lib\\site-packages (from langchain==0.0.316) (6.0.1)\n",
      "Requirement already satisfied: SQLAlchemy<3,>=1.4 in c:\\users\\varsh\\anaconda3\\lib\\site-packages (from langchain==0.0.316) (2.0.29)\n",
      "Requirement already satisfied: aiohttp<4.0.0,>=3.8.3 in c:\\users\\varsh\\anaconda3\\lib\\site-packages (from langchain==0.0.316) (3.9.5)\n",
      "Requirement already satisfied: anyio<4.0 in c:\\users\\varsh\\anaconda3\\lib\\site-packages (from langchain==0.0.316) (3.5.0)\n",
      "Requirement already satisfied: dataclasses-json<0.7,>=0.5.7 in c:\\users\\varsh\\anaconda3\\lib\\site-packages (from langchain==0.0.316) (0.5.14)\n",
      "Requirement already satisfied: jsonpatch<2.0,>=1.33 in c:\\users\\varsh\\anaconda3\\lib\\site-packages (from langchain==0.0.316) (1.33)\n",
      "Requirement already satisfied: langsmith<0.1.0,>=0.0.43 in c:\\users\\varsh\\anaconda3\\lib\\site-packages (from langchain==0.0.316) (0.0.92)\n",
      "Requirement already satisfied: numpy<2,>=1 in c:\\users\\varsh\\anaconda3\\lib\\site-packages (from langchain==0.0.316) (1.24.3)\n",
      "Requirement already satisfied: pydantic<3,>=1 in c:\\users\\varsh\\anaconda3\\lib\\site-packages (from langchain==0.0.316) (1.10.0)\n",
      "Requirement already satisfied: requests<3,>=2 in c:\\users\\varsh\\anaconda3\\lib\\site-packages (from langchain==0.0.316) (2.31.0)\n",
      "Requirement already satisfied: tenacity<9.0.0,>=8.1.0 in c:\\users\\varsh\\anaconda3\\lib\\site-packages (from langchain==0.0.316) (8.2.3)\n",
      "Requirement already satisfied: tqdm in c:\\users\\varsh\\anaconda3\\lib\\site-packages (from openai==0.28.1) (4.66.2)\n",
      "Requirement already satisfied: aiosignal>=1.1.2 in c:\\users\\varsh\\anaconda3\\lib\\site-packages (from aiohttp<4.0.0,>=3.8.3->langchain==0.0.316) (1.2.0)\n",
      "Requirement already satisfied: attrs>=17.3.0 in c:\\users\\varsh\\anaconda3\\lib\\site-packages (from aiohttp<4.0.0,>=3.8.3->langchain==0.0.316) (22.1.0)\n",
      "Requirement already satisfied: frozenlist>=1.1.1 in c:\\users\\varsh\\anaconda3\\lib\\site-packages (from aiohttp<4.0.0,>=3.8.3->langchain==0.0.316) (1.3.3)\n",
      "Requirement already satisfied: multidict<7.0,>=4.5 in c:\\users\\varsh\\anaconda3\\lib\\site-packages (from aiohttp<4.0.0,>=3.8.3->langchain==0.0.316) (6.0.2)\n",
      "Requirement already satisfied: yarl<2.0,>=1.0 in c:\\users\\varsh\\anaconda3\\lib\\site-packages (from aiohttp<4.0.0,>=3.8.3->langchain==0.0.316) (1.8.1)\n",
      "Requirement already satisfied: idna>=2.8 in c:\\users\\varsh\\anaconda3\\lib\\site-packages (from anyio<4.0->langchain==0.0.316) (3.4)\n",
      "Requirement already satisfied: sniffio>=1.1 in c:\\users\\varsh\\anaconda3\\lib\\site-packages (from anyio<4.0->langchain==0.0.316) (1.2.0)\n",
      "Requirement already satisfied: marshmallow<4.0.0,>=3.18.0 in c:\\users\\varsh\\anaconda3\\lib\\site-packages (from dataclasses-json<0.7,>=0.5.7->langchain==0.0.316) (3.20.2)\n",
      "Requirement already satisfied: typing-inspect<1,>=0.4.0 in c:\\users\\varsh\\anaconda3\\lib\\site-packages (from dataclasses-json<0.7,>=0.5.7->langchain==0.0.316) (0.9.0)\n",
      "Requirement already satisfied: jsonpointer>=1.9 in c:\\users\\varsh\\anaconda3\\lib\\site-packages (from jsonpatch<2.0,>=1.33->langchain==0.0.316) (2.1)\n",
      "Requirement already satisfied: typing-extensions>=4.1.0 in c:\\users\\varsh\\anaconda3\\lib\\site-packages (from pydantic<3,>=1->langchain==0.0.316) (4.9.0)\n",
      "Requirement already satisfied: charset-normalizer<4,>=2 in c:\\users\\varsh\\anaconda3\\lib\\site-packages (from requests<3,>=2->langchain==0.0.316) (3.3.2)\n",
      "Requirement already satisfied: urllib3<3,>=1.21.1 in c:\\users\\varsh\\anaconda3\\lib\\site-packages (from requests<3,>=2->langchain==0.0.316) (2.2.1)\n",
      "Requirement already satisfied: certifi>=2017.4.17 in c:\\users\\varsh\\anaconda3\\lib\\site-packages (from requests<3,>=2->langchain==0.0.316) (2023.11.17)\n",
      "Requirement already satisfied: greenlet!=0.4.17 in c:\\users\\varsh\\anaconda3\\lib\\site-packages (from SQLAlchemy<3,>=1.4->langchain==0.0.316) (2.0.1)\n",
      "Requirement already satisfied: colorama in c:\\users\\varsh\\anaconda3\\lib\\site-packages (from tqdm->openai==0.28.1) (0.4.6)\n",
      "Requirement already satisfied: packaging>=17.0 in c:\\users\\varsh\\anaconda3\\lib\\site-packages (from marshmallow<4.0.0,>=3.18.0->dataclasses-json<0.7,>=0.5.7->langchain==0.0.316) (23.2)\n",
      "Requirement already satisfied: mypy-extensions>=0.3.0 in c:\\users\\varsh\\anaconda3\\lib\\site-packages (from typing-inspect<1,>=0.4.0->dataclasses-json<0.7,>=0.5.7->langchain==0.0.316) (1.0.0)\n",
      "Note: you may need to restart the kernel to use updated packages.\n"
     ]
    }
   ],
   "source": [
    "pip install langchain==0.0.316 openai==0.28.1"
   ]
  },
  {
   "cell_type": "code",
   "execution_count": null,
   "id": "71157ce0",
   "metadata": {},
   "outputs": [],
   "source": [
    "import os\n",
    "from getpass import getpass\n",
    "OPENAI_API_KEY = getpass()\n",
    "os.environ[\"OPENAI_API_KEY\"] = OPENAI_API_KEY\n",
    "from langchain.llms import OpenAI\n",
    "from langchain.chains import ConversationChain\n",
    "conversation_with_summary = ConversationChain(\n",
    "    llm=OpenAI(temperature=0, model_name=\"gpt-3.5-turbo\"),\n",
    "    memory=ConversationBufferWindowMemory(k=2),\n",
    ")\n"
   ]
  },
  {
   "cell_type": "code",
   "execution_count": 60,
   "id": "361ddff9",
   "metadata": {},
   "outputs": [
    {
     "name": "stdout",
     "output_type": "stream",
     "text": [
      "Chatbot: Hi! I'm a conversational bot. You can start chatting with me. Type 'quit' to end the conversation.\n",
      "You: Hello\n",
      "Chatbot: Hello! How are you doing today?\n",
      "You: Im fine what about you \n",
      "Chatbot: I'm doing well, thank you for asking. Is there anything specific you would like to talk about or ask me?\n",
      "You: Ya Im here to talk about cricket. Do you know something about it?\n",
      "Chatbot: Yes, I know a lot about cricket! Cricket is a popular sport played with a bat and ball between two teams of eleven players each. The game is played on a circular field with a rectangular 22-yard-long pitch in the center. The objective of the game is for one team to score more runs than the other team. There are different formats of cricket, including Test matches, One Day Internationals (ODIs), and Twenty20 (T20) matches. Each format has its own set of rules and regulations. Do you have any specific questions about cricket that you would like me to answer?\n",
      "You: Hmm Great \n",
      "Chatbot: I'm glad you think so! Cricket is a fascinating sport with a rich history and a passionate fan base. If you have any specific questions or topics you'd like to discuss further, feel free to ask!\n",
      "You: ok then, whom won the first cricket t20 world cup\n",
      "Chatbot: The first ICC T20 World Cup was held in 2007 in South Africa. The tournament was won by India, who defeated Pakistan in the final to claim the title. It was a historic moment for Indian cricket as it was their first major ICC tournament victory in the T20 format. The final was held at the Wanderers Stadium in Johannesburg, and India emerged victorious by 5 runs in a thrilling match.\n",
      "You: quit\n",
      "Chatbot: Goodbye!\n"
     ]
    }
   ],
   "source": [
    "import re  \n",
    "bot_responses = []\n",
    "print(\"Chatbot: Hi! I'm a conversational bot. You can start chatting with me. Type 'quit' to end the conversation.\")\n",
    "while True:\n",
    "    user_input = input(\"You: \")\n",
    "    if user_input.lower() == 'quit':\n",
    "        print(\"Chatbot: Goodbye!\")\n",
    "        break\n",
    "     \n",
    "    raw_response = conversation_with_summary.predict(input=user_input)\n",
    "    response = re.split(r'\\n|AI:', raw_response)[0].strip()\n",
    "    if \"Human:\" in response:\n",
    "        response = response.split(\"Human:\")[0].strip()\n",
    "    \n",
    "    bot_responses.append(response)\n",
    "    print(\"Chatbot:\", response)\n"
   ]
  },
  {
   "cell_type": "code",
   "execution_count": 61,
   "id": "abe53083",
   "metadata": {},
   "outputs": [
    {
     "data": {
      "text/plain": [
       "['Hello! How are you doing today?',\n",
       " \"I'm doing well, thank you for asking. Is there anything specific you would like to talk about or ask me?\",\n",
       " 'Yes, I know a lot about cricket! Cricket is a popular sport played with a bat and ball between two teams of eleven players each. The game is played on a circular field with a rectangular 22-yard-long pitch in the center. The objective of the game is for one team to score more runs than the other team. There are different formats of cricket, including Test matches, One Day Internationals (ODIs), and Twenty20 (T20) matches. Each format has its own set of rules and regulations. Do you have any specific questions about cricket that you would like me to answer?',\n",
       " \"I'm glad you think so! Cricket is a fascinating sport with a rich history and a passionate fan base. If you have any specific questions or topics you'd like to discuss further, feel free to ask!\",\n",
       " 'The first ICC T20 World Cup was held in 2007 in South Africa. The tournament was won by India, who defeated Pakistan in the final to claim the title. It was a historic moment for Indian cricket as it was their first major ICC tournament victory in the T20 format. The final was held at the Wanderers Stadium in Johannesburg, and India emerged victorious by 5 runs in a thrilling match.']"
      ]
     },
     "execution_count": 61,
     "metadata": {},
     "output_type": "execute_result"
    }
   ],
   "source": [
    "bot_responses"
   ]
  },
  {
   "cell_type": "code",
   "execution_count": 62,
   "id": "a96ddf4a",
   "metadata": {
    "collapsed": true
   },
   "outputs": [
    {
     "name": "stdout",
     "output_type": "stream",
     "text": [
      "Requirement already satisfied: transformers in c:\\users\\varsh\\anaconda3\\lib\\site-packages (4.39.3)\n",
      "Requirement already satisfied: filelock in c:\\users\\varsh\\anaconda3\\lib\\site-packages (from transformers) (3.9.0)\n",
      "Requirement already satisfied: huggingface-hub<1.0,>=0.19.3 in c:\\users\\varsh\\anaconda3\\lib\\site-packages (from transformers) (0.22.2)\n",
      "Requirement already satisfied: numpy>=1.17 in c:\\users\\varsh\\anaconda3\\lib\\site-packages (from transformers) (1.24.3)\n",
      "Requirement already satisfied: packaging>=20.0 in c:\\users\\varsh\\anaconda3\\lib\\site-packages (from transformers) (23.2)\n",
      "Requirement already satisfied: pyyaml>=5.1 in c:\\users\\varsh\\anaconda3\\lib\\site-packages (from transformers) (6.0.1)\n",
      "Requirement already satisfied: regex!=2019.12.17 in c:\\users\\varsh\\anaconda3\\lib\\site-packages (from transformers) (2022.7.9)\n",
      "Requirement already satisfied: requests in c:\\users\\varsh\\anaconda3\\lib\\site-packages (from transformers) (2.31.0)\n",
      "Requirement already satisfied: tokenizers<0.19,>=0.14 in c:\\users\\varsh\\anaconda3\\lib\\site-packages (from transformers) (0.15.2)\n",
      "Requirement already satisfied: safetensors>=0.4.1 in c:\\users\\varsh\\anaconda3\\lib\\site-packages (from transformers) (0.4.3)\n",
      "Requirement already satisfied: tqdm>=4.27 in c:\\users\\varsh\\anaconda3\\lib\\site-packages (from transformers) (4.66.2)\n",
      "Requirement already satisfied: fsspec>=2023.5.0 in c:\\users\\varsh\\anaconda3\\lib\\site-packages (from huggingface-hub<1.0,>=0.19.3->transformers) (2024.3.1)\n",
      "Requirement already satisfied: typing-extensions>=3.7.4.3 in c:\\users\\varsh\\anaconda3\\lib\\site-packages (from huggingface-hub<1.0,>=0.19.3->transformers) (4.9.0)\n",
      "Requirement already satisfied: colorama in c:\\users\\varsh\\anaconda3\\lib\\site-packages (from tqdm>=4.27->transformers) (0.4.6)\n",
      "Requirement already satisfied: charset-normalizer<4,>=2 in c:\\users\\varsh\\anaconda3\\lib\\site-packages (from requests->transformers) (3.3.2)\n",
      "Requirement already satisfied: idna<4,>=2.5 in c:\\users\\varsh\\anaconda3\\lib\\site-packages (from requests->transformers) (3.4)\n",
      "Requirement already satisfied: urllib3<3,>=1.21.1 in c:\\users\\varsh\\anaconda3\\lib\\site-packages (from requests->transformers) (2.2.1)\n",
      "Requirement already satisfied: certifi>=2017.4.17 in c:\\users\\varsh\\anaconda3\\lib\\site-packages (from requests->transformers) (2023.11.17)\n",
      "Note: you may need to restart the kernel to use updated packages.\n"
     ]
    }
   ],
   "source": [
    "pip install transformers"
   ]
  },
  {
   "cell_type": "code",
   "execution_count": 63,
   "id": "325e0d0a",
   "metadata": {},
   "outputs": [
    {
     "data": {
      "application/vnd.jupyter.widget-view+json": {
       "model_id": "5120e74ffd214b7fa043afbf28bbded4",
       "version_major": 2,
       "version_minor": 0
      },
      "text/plain": [
       "config.json:   0%|          | 0.00/933 [00:00<?, ?B/s]"
      ]
     },
     "metadata": {},
     "output_type": "display_data"
    },
    {
     "name": "stderr",
     "output_type": "stream",
     "text": [
      "C:\\Users\\varsh\\anaconda3\\Lib\\site-packages\\huggingface_hub\\file_download.py:148: UserWarning: `huggingface_hub` cache-system uses symlinks by default to efficiently store duplicated files but your machine does not support them in C:\\Users\\varsh\\.cache\\huggingface\\hub\\models--mrm8488--distilroberta-finetuned-financial-news-sentiment-analysis. Caching files will still work but in a degraded version that might require more space on your disk. This warning can be disabled by setting the `HF_HUB_DISABLE_SYMLINKS_WARNING` environment variable. For more details, see https://huggingface.co/docs/huggingface_hub/how-to-cache#limitations.\n",
      "To support symlinks on Windows, you either need to activate Developer Mode or to run Python as an administrator. In order to see activate developer mode, see this article: https://docs.microsoft.com/en-us/windows/apps/get-started/enable-your-device-for-development\n",
      "  warnings.warn(message)\n"
     ]
    },
    {
     "data": {
      "application/vnd.jupyter.widget-view+json": {
       "model_id": "c8794630e2fa47289715b857f8f8b0d0",
       "version_major": 2,
       "version_minor": 0
      },
      "text/plain": [
       "model.safetensors:   0%|          | 0.00/328M [00:00<?, ?B/s]"
      ]
     },
     "metadata": {},
     "output_type": "display_data"
    },
    {
     "data": {
      "application/vnd.jupyter.widget-view+json": {
       "model_id": "53d8840c03564899b4078765d2832814",
       "version_major": 2,
       "version_minor": 0
      },
      "text/plain": [
       "tokenizer_config.json:   0%|          | 0.00/333 [00:00<?, ?B/s]"
      ]
     },
     "metadata": {},
     "output_type": "display_data"
    },
    {
     "data": {
      "application/vnd.jupyter.widget-view+json": {
       "model_id": "198c8cdfa03e475997966d618176e291",
       "version_major": 2,
       "version_minor": 0
      },
      "text/plain": [
       "vocab.json:   0%|          | 0.00/798k [00:00<?, ?B/s]"
      ]
     },
     "metadata": {},
     "output_type": "display_data"
    },
    {
     "data": {
      "application/vnd.jupyter.widget-view+json": {
       "model_id": "864d5542470f4d98b1816cb067fb9007",
       "version_major": 2,
       "version_minor": 0
      },
      "text/plain": [
       "merges.txt:   0%|          | 0.00/456k [00:00<?, ?B/s]"
      ]
     },
     "metadata": {},
     "output_type": "display_data"
    },
    {
     "data": {
      "application/vnd.jupyter.widget-view+json": {
       "model_id": "73386d46d57848ac8ff2cac6de0ab5ac",
       "version_major": 2,
       "version_minor": 0
      },
      "text/plain": [
       "tokenizer.json:   0%|          | 0.00/1.36M [00:00<?, ?B/s]"
      ]
     },
     "metadata": {},
     "output_type": "display_data"
    },
    {
     "data": {
      "application/vnd.jupyter.widget-view+json": {
       "model_id": "d7118e2f0012461995cd96122b923179",
       "version_major": 2,
       "version_minor": 0
      },
      "text/plain": [
       "special_tokens_map.json:   0%|          | 0.00/239 [00:00<?, ?B/s]"
      ]
     },
     "metadata": {},
     "output_type": "display_data"
    }
   ],
   "source": [
    "from transformers import pipeline\n",
    "import matplotlib.pyplot as plt\n",
    "\n",
    "sentiment_pipeline = pipeline(\"sentiment-analysis\", model=\"mrm8488/distilroberta-finetuned-financial-news-sentiment-analysis\")\n"
   ]
  },
  {
   "cell_type": "code",
   "execution_count": 64,
   "id": "e6feb643",
   "metadata": {},
   "outputs": [
    {
     "name": "stdout",
     "output_type": "stream",
     "text": [
      "Response: Hello! How are you doing today?\n",
      "Sentiment: neutral\n",
      "\n",
      "Response: I'm doing well, thank you for asking. Is there anything specific you would like to talk about or ask me?\n",
      "Sentiment: neutral\n",
      "\n",
      "Response: Yes, I know a lot about cricket! Cricket is a popular sport played with a bat and ball between two teams of eleven players each. The game is played on a circular field with a rectangular 22-yard-long pitch in the center. The objective of the game is for one team to score more runs than the other team. There are different formats of cricket, including Test matches, One Day Internationals (ODIs), and Twenty20 (T20) matches. Each format has its own set of rules and regulations. Do you have any specific questions about cricket that you would like me to answer?\n",
      "Sentiment: neutral\n",
      "\n",
      "Response: I'm glad you think so! Cricket is a fascinating sport with a rich history and a passionate fan base. If you have any specific questions or topics you'd like to discuss further, feel free to ask!\n",
      "Sentiment: neutral\n",
      "\n",
      "Response: The first ICC T20 World Cup was held in 2007 in South Africa. The tournament was won by India, who defeated Pakistan in the final to claim the title. It was a historic moment for Indian cricket as it was their first major ICC tournament victory in the T20 format. The final was held at the Wanderers Stadium in Johannesburg, and India emerged victorious by 5 runs in a thrilling match.\n",
      "Sentiment: positive\n",
      "\n"
     ]
    }
   ],
   "source": [
    "sentiments = []\n",
    "for response in bot_responses:\n",
    "    sentiment_result = sentiment_pipeline(response)\n",
    "    sentiment_label = sentiment_result[0]['label']\n",
    "    sentiments.append(sentiment_label)\n",
    "    print(\"Response:\", response)\n",
    "    print(\"Sentiment:\", sentiment_label)\n",
    "    print()"
   ]
  },
  {
   "cell_type": "code",
   "execution_count": 70,
   "id": "1db1fb22",
   "metadata": {},
   "outputs": [],
   "source": [
    "sentiment_counts = {label: sentiments.count(label) for label in set(sentiments)}\n",
    "total_responses = len(sentiments)\n",
    "sentiment_percentages = {label: count / total_responses * 100 for label, count in sentiment_counts.items()}"
   ]
  },
  {
   "cell_type": "code",
   "execution_count": 75,
   "id": "61d7b30d",
   "metadata": {},
   "outputs": [
    {
     "data": {
      "image/png": "[encoded data removed]",
      "text/plain": [
       "<Figure size 1200x600 with 2 Axes>"
      ]
     },
     "metadata": {},
     "output_type": "display_data"
    },
    {
     "name": "stdout",
     "output_type": "stream",
     "text": [
      "\n",
      "Sentiment Analysis Report:\n",
      "==========================\n",
      "Total Responses: 5\n",
      "Sentiment Counts: {'positive': 1, 'neutral': 4}\n",
      "Sentiment Percentages: {'positive': 20.0, 'neutral': 80.0}\n"
     ]
    }
   ],
   "source": [
    "\n",
    "labels = sentiment_counts.keys()\n",
    "sizes = sentiment_counts.values()\n",
    "colors = ['green', 'red', 'yellow']  # Positive, Negative, Neutral\n",
    "\n",
    "fig, (ax1, ax2) = plt.subplots(1, 2, figsize=(12, 6))\n",
    "\n",
    "# Pie chart\n",
    "ax1.pie(sizes, labels=labels, colors=colors, autopct='%1.1f%%', startangle=140)\n",
    "ax1.set_title('Sentiment Analysis Results')\n",
    "\n",
    "# Bar chart\n",
    "x = np.arange(len(labels))\n",
    "ax2.bar(x, sentiment_counts.values(), color=colors)\n",
    "ax2.set_xticks(x)\n",
    "ax2.set_xticklabels(labels)\n",
    "ax2.set_ylabel('Count')\n",
    "ax2.set_title('Sentiment Analysis Distribution')\n",
    "\n",
    "plt.show()\n",
    "\n",
    "# Print detailed statistics and insights\n",
    "print(\"\\nSentiment Analysis Report:\")\n",
    "print(\"==========================\")\n",
    "print(\"Total Responses:\", total_responses)\n",
    "print(\"Sentiment Counts:\", sentiment_counts)\n",
    "print(\"Sentiment Percentages:\", sentiment_percentages)"
   ]
  },
  {
   "cell_type": "code",
   "execution_count": null,
   "id": "a178b42e",
   "metadata": {},
   "outputs": [],
   "source": []
  }
 ],
 "metadata": {
  "kernelspec": {
   "display_name": "Python 3 (ipykernel)",
   "language": "python",
   "name": "python3"
  },
  "language_info": {
   "codemirror_mode": {
    "name": "ipython",
    "version": 3
   },
   "file_extension": ".py",
   "mimetype": "text/x-python",
   "name": "python",
   "nbconvert_exporter": "python",
   "pygments_lexer": "ipython3",
   "version": "3.11.5"
  }
 },
 "nbformat": 4,
 "nbformat_minor": 5
}
